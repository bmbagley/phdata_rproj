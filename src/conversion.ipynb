{
 "cells": [
  {
   "cell_type": "code",
   "execution_count": 7,
   "metadata": {},
   "outputs": [],
   "source": [
    "from pyspark.sql import SparkSession\n",
    "from datetime import datetime, timedelta"
   ]
  },
  {
   "cell_type": "code",
   "execution_count": 14,
   "metadata": {},
   "outputs": [],
   "source": [
    "spark = SparkSession.builder.getOrCreate()"
   ]
  },
  {
   "cell_type": "code",
   "execution_count": 11,
   "metadata": {},
   "outputs": [
    {
     "name": "stdout",
     "output_type": "stream",
     "text": [
      "Number of days that are not Sundays: 73\n"
     ]
    }
   ],
   "source": [
    "def non_sunday_daycount(start_date: datetime, end_date: datetime) -> int:\n",
    "    # Error handling for input types\n",
    "    if not isinstance(start_date, datetime) or not isinstance(end_date, datetime):\n",
    "        raise ValueError(\"Both start_date and end_date must be datetime.datetime objects.\")\n",
    "    \n",
    "    count = 0\n",
    "    current_date = start_date\n",
    "\n",
    "    while current_date <= end_date:\n",
    "        if current_date.weekday() != 6:  # 6 is Sunday\n",
    "            count += 1\n",
    "        current_date += timedelta(days=1)\n",
    "    return count\n",
    "\n",
    "print(\"Number of days that are not Sundays:\", non_sunday_daycount(datetime(2025, 1, 1), datetime.today()))"
   ]
  },
  {
   "cell_type": "code",
   "execution_count": 15,
   "metadata": {},
   "outputs": [
    {
     "name": "stdout",
     "output_type": "stream",
     "text": [
      "Number of non-Sundays: 26\n"
     ]
    }
   ],
   "source": [
    "# Example usage\n",
    "try:\n",
    "    start = datetime(2023, 10, 1)\n",
    "    end = datetime(2023, 10, 31)\n",
    "    result = non_sunday_daycount(start, end)\n",
    "    print(f\"Number of non-Sundays: {result}\")\n",
    "except ValueError as e:\n",
    "    print(e)"
   ]
  },
  {
   "cell_type": "code",
   "execution_count": null,
   "metadata": {},
   "outputs": [],
   "source": []
  }
 ],
 "metadata": {
  "kernelspec": {
   "display_name": "vscode_pyspark",
   "language": "python",
   "name": "python3"
  },
  "language_info": {
   "codemirror_mode": {
    "name": "ipython",
    "version": 3
   },
   "file_extension": ".py",
   "mimetype": "text/x-python",
   "name": "python",
   "nbconvert_exporter": "python",
   "pygments_lexer": "ipython3",
   "version": "3.11.11"
  }
 },
 "nbformat": 4,
 "nbformat_minor": 2
}
