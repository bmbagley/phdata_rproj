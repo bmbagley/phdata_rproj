{
 "cells": [
  {
   "cell_type": "code",
   "execution_count": 11,
   "metadata": {},
   "outputs": [],
   "source": [
    "import utils"
   ]
  },
  {
   "cell_type": "code",
   "execution_count": null,
   "metadata": {},
   "outputs": [],
   "source": [
    "from pyspark.sql import SparkSession\n",
    "from datetime import datetime, timedelta\n",
    "import pyspark.pandas as ps"
   ]
  },
  {
   "cell_type": "code",
   "execution_count": 3,
   "metadata": {},
   "outputs": [],
   "source": [
    "spark = SparkSession.builder.getOrCreate()"
   ]
  },
  {
   "cell_type": "code",
   "execution_count": 4,
   "metadata": {},
   "outputs": [
    {
     "name": "stdout",
     "output_type": "stream",
     "text": [
      "Number of days that are not Sundays: 74\n"
     ]
    }
   ],
   "source": [
    "def non_sunday_daycount(start_date: datetime, end_date: datetime) -> int:\n",
    "    # Error handling for input types\n",
    "    if not isinstance(start_date, datetime) or not isinstance(end_date, datetime):\n",
    "        raise ValueError(\"Both start_date and end_date must be datetime.datetime objects.\")\n",
    "    \n",
    "    count = 0\n",
    "    current_date = start_date\n",
    "\n",
    "    while current_date <= end_date:\n",
    "        if current_date.weekday() != 6:  # 6 is Sunday\n",
    "            count += 1\n",
    "        current_date += timedelta(days=1)\n",
    "    return count\n",
    "\n",
    "print(\"Number of days that are not Sundays:\", non_sunday_daycount(datetime(2025, 1, 1), datetime.today()))"
   ]
  },
  {
   "cell_type": "code",
   "execution_count": 5,
   "metadata": {},
   "outputs": [
    {
     "name": "stdout",
     "output_type": "stream",
     "text": [
      "Number of non-Sundays: 26\n"
     ]
    }
   ],
   "source": [
    "# Example usage\n",
    "try:\n",
    "    start = datetime(2023, 10, 1)\n",
    "    end = datetime(2023, 10, 31)\n",
    "    result = non_sunday_daycount(start, end)\n",
    "    print(f\"Number of non-Sundays: {result}\")\n",
    "except ValueError as e:\n",
    "    print(e)"
   ]
  },
  {
   "cell_type": "code",
   "execution_count": 12,
   "metadata": {},
   "outputs": [
    {
     "data": {
      "text/plain": [
       "PosixPath('/home/jovyan/code')"
      ]
     },
     "execution_count": 12,
     "metadata": {},
     "output_type": "execute_result"
    }
   ],
   "source": [
    "utils.get_proj_root()"
   ]
  },
  {
   "cell_type": "code",
   "execution_count": 17,
   "metadata": {},
   "outputs": [
    {
     "ename": "AttributeError",
     "evalue": "module 'utils' has no attribute 'FileLoader'",
     "output_type": "error",
     "traceback": [
      "\u001b[0;31m---------------------------------------------------------------------------\u001b[0m",
      "\u001b[0;31mAttributeError\u001b[0m                            Traceback (most recent call last)",
      "Cell \u001b[0;32mIn[17], line 1\u001b[0m\n\u001b[0;32m----> 1\u001b[0m fileloader \u001b[38;5;241m=\u001b[39m \u001b[43mutils\u001b[49m\u001b[38;5;241;43m.\u001b[39;49m\u001b[43mFileLoader\u001b[49m()\n",
      "\u001b[0;31mAttributeError\u001b[0m: module 'utils' has no attribute 'FileLoader'"
     ]
    }
   ],
   "source": [
    "fileloader = utils.FileLoader()"
   ]
  },
  {
   "cell_type": "code",
   "execution_count": null,
   "metadata": {},
   "outputs": [],
   "source": [
    "FileLoader(spark, get_proj_root(pathl))"
   ]
  }
 ],
 "metadata": {
  "kernelspec": {
   "display_name": "vscode_pyspark",
   "language": "python",
   "name": "python3"
  },
  "language_info": {
   "codemirror_mode": {
    "name": "ipython",
    "version": 3
   },
   "file_extension": ".py",
   "mimetype": "text/x-python",
   "name": "python",
   "nbconvert_exporter": "python",
   "pygments_lexer": "ipython3",
   "version": "3.10.16"
  }
 },
 "nbformat": 4,
 "nbformat_minor": 2
}
